{
 "cells": [
  {
   "cell_type": "code",
   "execution_count": 1,
   "metadata": {},
   "outputs": [],
   "source": [
    "import pandas as pd\n",
    "import numpy as np\n",
    "import json\n",
    "import matplotlib.pyplot as plt\n",
    "from matplotlib import rc\n",
    "from scipy.integrate import odeint\n",
    "from sklearn.metrics import mean_squared_error\n",
    "%matplotlib inline"
   ]
  },
  {
   "cell_type": "markdown",
   "metadata": {},
   "source": [
    "## Introduction:\n",
    "There are generally two different types of model used to forcast and track the spread of a viral disease. One is epidimiology models, such as a compartmentalized SIR model; the other type is machine learning model family, which is mainly data driven.\n",
    "\n",
    "In this IPython notebook, I will be using a combination of those two types of models. Specifically, I will construct an **SEIRD** (Susceptible, Exposed, Infected, Recovered, Deceased) Compartamentalized model and use data to estimate the parameters in the model. The algorithm I will be using to optimize is **Metropolis-Hastings**, a Markov Chain Monte Carlo **(MCMC)** based method."
   ]
  },
  {
   "cell_type": "markdown",
   "metadata": {},
   "source": [
    "## Synopsis:\n",
    "### 1. Datasets\n",
    "### 2. Cleaning\n",
    "### 3. Assumptions\n",
    "### 4. Model\n",
    "### 5. Optimization\n",
    "### 6. Result\n",
    "### 7. Comments\n",
    "### 8. Answers to Questions\n",
    "### 9. Disclaimer"
   ]
  },
  {
   "cell_type": "markdown",
   "metadata": {},
   "source": [
    "## 1. Datasets\n",
    "\n",
    "Here is the list of datasets I used:\n",
    "- state_wise_daily_delhi_gujurat_maharashtra_tamil_nadu_may_15_2020 - state_wise_daily_mh_gj_dl_tn.csv\n",
    "- StatewiseTestingDetails.csv\n",
    "- patient_city_district_wise_data_may_5_date_formatted.csv\n",
    "- state_population_india_census2011.csv"
   ]
  },
  {
   "cell_type": "code",
   "execution_count": 364,
   "metadata": {},
   "outputs": [],
   "source": [
    "## read in dataframes\n",
    "status_df = pd.read_csv('state_wise_daily_delhi_gujurat_maharashtra_tamil_nadu_may_15_2020 - state_wise_daily_mh_gj_dl_tn.csv')\n",
    "testing_df = pd.read_csv('additional_data/StatewiseTestingDetails.csv')\n",
    "patient_df = pd.read_csv('patient_city_district_wise_data_may_5_date_formatted.csv')\n",
    "population_df = pd.read_csv('additional_data/state_population_india_census2011.csv')"
   ]
  },
  {
   "cell_type": "markdown",
   "metadata": {},
   "source": [
    "## 2. Cleaning:\n",
    "In this section, I will preprocess the datasets, impute missing values, and compute some values for later use.\n",
    "\n",
    "Let's first look at the dataframe with patients' status:"
   ]
  },
  {
   "cell_type": "code",
   "execution_count": 365,
   "metadata": {},
   "outputs": [
    {
     "data": {
      "text/html": [
       "<div>\n",
       "<style scoped>\n",
       "    .dataframe tbody tr th:only-of-type {\n",
       "        vertical-align: middle;\n",
       "    }\n",
       "\n",
       "    .dataframe tbody tr th {\n",
       "        vertical-align: top;\n",
       "    }\n",
       "\n",
       "    .dataframe thead th {\n",
       "        text-align: right;\n",
       "    }\n",
       "</style>\n",
       "<table border=\"1\" class=\"dataframe\">\n",
       "  <thead>\n",
       "    <tr style=\"text-align: right;\">\n",
       "      <th></th>\n",
       "      <th>Date</th>\n",
       "      <th>Status</th>\n",
       "      <th>Delhi</th>\n",
       "      <th>Gujurat</th>\n",
       "      <th>Maharashtra</th>\n",
       "      <th>Tamil Nadu</th>\n",
       "    </tr>\n",
       "  </thead>\n",
       "  <tbody>\n",
       "    <tr>\n",
       "      <th>0</th>\n",
       "      <td>14-Mar-20</td>\n",
       "      <td>Confirmed</td>\n",
       "      <td>7</td>\n",
       "      <td>0</td>\n",
       "      <td>14</td>\n",
       "      <td>1</td>\n",
       "    </tr>\n",
       "    <tr>\n",
       "      <th>1</th>\n",
       "      <td>14-Mar-20</td>\n",
       "      <td>Recovered</td>\n",
       "      <td>1</td>\n",
       "      <td>0</td>\n",
       "      <td>0</td>\n",
       "      <td>0</td>\n",
       "    </tr>\n",
       "    <tr>\n",
       "      <th>2</th>\n",
       "      <td>14-Mar-20</td>\n",
       "      <td>Deceased</td>\n",
       "      <td>1</td>\n",
       "      <td>0</td>\n",
       "      <td>0</td>\n",
       "      <td>0</td>\n",
       "    </tr>\n",
       "    <tr>\n",
       "      <th>3</th>\n",
       "      <td>15-Mar-20</td>\n",
       "      <td>Confirmed</td>\n",
       "      <td>0</td>\n",
       "      <td>0</td>\n",
       "      <td>18</td>\n",
       "      <td>0</td>\n",
       "    </tr>\n",
       "    <tr>\n",
       "      <th>4</th>\n",
       "      <td>15-Mar-20</td>\n",
       "      <td>Recovered</td>\n",
       "      <td>1</td>\n",
       "      <td>0</td>\n",
       "      <td>0</td>\n",
       "      <td>0</td>\n",
       "    </tr>\n",
       "  </tbody>\n",
       "</table>\n",
       "</div>"
      ],
      "text/plain": [
       "        Date     Status  Delhi  Gujurat  Maharashtra  Tamil Nadu\n",
       "0  14-Mar-20  Confirmed      7        0           14           1\n",
       "1  14-Mar-20  Recovered      1        0            0           0\n",
       "2  14-Mar-20   Deceased      1        0            0           0\n",
       "3  15-Mar-20  Confirmed      0        0           18           0\n",
       "4  15-Mar-20  Recovered      1        0            0           0"
      ]
     },
     "execution_count": 365,
     "metadata": {},
     "output_type": "execute_result"
    }
   ],
   "source": [
    "status_df.head()"
   ]
  },
  {
   "cell_type": "code",
   "execution_count": 366,
   "metadata": {},
   "outputs": [
    {
     "data": {
      "text/plain": [
       "Date           False\n",
       "Status         False\n",
       "Delhi          False\n",
       "Gujurat        False\n",
       "Maharashtra    False\n",
       "Tamil Nadu     False\n",
       "dtype: bool"
      ]
     },
     "execution_count": 366,
     "metadata": {},
     "output_type": "execute_result"
    }
   ],
   "source": [
    "status_df.isnull().any()"
   ]
  },
  {
   "cell_type": "markdown",
   "metadata": {},
   "source": [
    "There are no missing values :) There are only data available for 4 of the states. Let's combine them:"
   ]
  },
  {
   "cell_type": "code",
   "execution_count": 367,
   "metadata": {},
   "outputs": [
    {
     "data": {
      "image/png": "[encoded data removed]",
      "text/plain": [
       "<Figure size 1080x576 with 1 Axes>"
      ]
     },
     "metadata": {
      "needs_background": "light"
     },
     "output_type": "display_data"
    }
   ],
   "source": [
    "status_df['Country'] = status_df['Delhi'] + status_df['Gujurat'] + status_df['Maharashtra'] + status_df['Tamil Nadu']\n",
    "all_df = status_df.drop(['Delhi', 'Gujurat', 'Maharashtra', 'Tamil Nadu'], axis=1)\n",
    "confirmed_df = all_df[all_df['Status'] == 'Confirmed']\n",
    "recovered_df = all_df[all_df['Status'] == 'Recovered']\n",
    "deceased_df = all_df[all_df['Status'] == 'Deceased']\n",
    "\n",
    "fig = plt.figure(figsize=(15,8))\n",
    "ax = fig.add_subplot(111)\n",
    "ax.plot(confirmed_df['Country'], 'red', label = 'Daily Confirmed')\n",
    "ax.plot(recovered_df['Country'], 'green', label = 'Daily Recovered')\n",
    "ax.plot(deceased_df['Country'], 'black', label = 'Daily Deceased')\n",
    "ax.set_xlabel('Time')\n",
    "ax.set_ylabel('Num')\n",
    "legend = ax.legend()"
   ]
  },
  {
   "cell_type": "markdown",
   "metadata": {},
   "source": [
    "The daily number of confirmed cases looked pretty random, but follows an upward trend, more and more people are getting infected still!\n",
    "\n",
    "Let's now look at the statewise testing data:"
   ]
  },
  {
   "cell_type": "code",
   "execution_count": 368,
   "metadata": {},
   "outputs": [
    {
     "data": {
      "text/html": [
       "<div>\n",
       "<style scoped>\n",
       "    .dataframe tbody tr th:only-of-type {\n",
       "        vertical-align: middle;\n",
       "    }\n",
       "\n",
       "    .dataframe tbody tr th {\n",
       "        vertical-align: top;\n",
       "    }\n",
       "\n",
       "    .dataframe thead th {\n",
       "        text-align: right;\n",
       "    }\n",
       "</style>\n",
       "<table border=\"1\" class=\"dataframe\">\n",
       "  <thead>\n",
       "    <tr style=\"text-align: right;\">\n",
       "      <th></th>\n",
       "      <th>Date</th>\n",
       "      <th>State</th>\n",
       "      <th>TotalSamples</th>\n",
       "      <th>Negative</th>\n",
       "      <th>Positive</th>\n",
       "    </tr>\n",
       "  </thead>\n",
       "  <tbody>\n",
       "    <tr>\n",
       "      <th>0</th>\n",
       "      <td>2020-04-17</td>\n",
       "      <td>Andaman and Nicobar Islands</td>\n",
       "      <td>1403.0</td>\n",
       "      <td>1210.0</td>\n",
       "      <td>12.0</td>\n",
       "    </tr>\n",
       "    <tr>\n",
       "      <th>1</th>\n",
       "      <td>2020-04-24</td>\n",
       "      <td>Andaman and Nicobar Islands</td>\n",
       "      <td>2679.0</td>\n",
       "      <td>NaN</td>\n",
       "      <td>27.0</td>\n",
       "    </tr>\n",
       "    <tr>\n",
       "      <th>2</th>\n",
       "      <td>2020-04-27</td>\n",
       "      <td>Andaman and Nicobar Islands</td>\n",
       "      <td>2848.0</td>\n",
       "      <td>NaN</td>\n",
       "      <td>33.0</td>\n",
       "    </tr>\n",
       "    <tr>\n",
       "      <th>3</th>\n",
       "      <td>2020-05-01</td>\n",
       "      <td>Andaman and Nicobar Islands</td>\n",
       "      <td>3754.0</td>\n",
       "      <td>NaN</td>\n",
       "      <td>33.0</td>\n",
       "    </tr>\n",
       "    <tr>\n",
       "      <th>4</th>\n",
       "      <td>2020-04-02</td>\n",
       "      <td>Andhra Pradesh</td>\n",
       "      <td>1800.0</td>\n",
       "      <td>1175.0</td>\n",
       "      <td>132.0</td>\n",
       "    </tr>\n",
       "  </tbody>\n",
       "</table>\n",
       "</div>"
      ],
      "text/plain": [
       "         Date                        State  TotalSamples  Negative  Positive\n",
       "0  2020-04-17  Andaman and Nicobar Islands        1403.0    1210.0      12.0\n",
       "1  2020-04-24  Andaman and Nicobar Islands        2679.0       NaN      27.0\n",
       "2  2020-04-27  Andaman and Nicobar Islands        2848.0       NaN      33.0\n",
       "3  2020-05-01  Andaman and Nicobar Islands        3754.0       NaN      33.0\n",
       "4  2020-04-02               Andhra Pradesh        1800.0    1175.0     132.0"
      ]
     },
     "execution_count": 368,
     "metadata": {},
     "output_type": "execute_result"
    }
   ],
   "source": [
    "testing_df.head()"
   ]
  },
  {
   "cell_type": "code",
   "execution_count": 369,
   "metadata": {},
   "outputs": [
    {
     "data": {
      "text/plain": [
       "Date            False\n",
       "State           False\n",
       "TotalSamples    False\n",
       "Negative         True\n",
       "Positive         True\n",
       "dtype: bool"
      ]
     },
     "execution_count": 369,
     "metadata": {},
     "output_type": "execute_result"
    }
   ],
   "source": [
    "testing_df.isnull().any()"
   ]
  },
  {
   "cell_type": "markdown",
   "metadata": {},
   "source": [
    "Columns 'Positive' and 'Negative' have missing values :( However, we could easily impute these values. Notice that we have a complete 'TotalSamples', if we know either 'Positive' or 'Negative', we could estimate the other. But 'Positive' and 'Negative' sometimes do not sum up exactly to 'TotalSamples', might be because some tests are discarded. For simplicity, let's just assume they sum up to 'TotalSamples'.\n",
    "\n",
    "For the rows that are missing both 'Positive' and 'Negative' values, we use the mean positive testing ratio to calculate the 'Positive' and 'Negative' respectively:"
   ]
  },
  {
   "cell_type": "code",
   "execution_count": 370,
   "metadata": {},
   "outputs": [
    {
     "data": {
      "text/plain": [
       "Date            False\n",
       "State           False\n",
       "TotalSamples    False\n",
       "Negative        False\n",
       "Positive        False\n",
       "dtype: bool"
      ]
     },
     "execution_count": 370,
     "metadata": {},
     "output_type": "execute_result"
    }
   ],
   "source": [
    "testing_temp = testing_df.dropna()\n",
    "pos_rate = np.mean(testing_temp['Positive']) / np.mean(testing_temp['TotalSamples'])\n",
    "\n",
    "for i in range(len(testing_df)):\n",
    "    if np.isnan(testing_df.iloc[i]['Positive']) and ~np.isnan(testing_df.iloc[i]['Negative']):\n",
    "        testing_df.at[i, 'Positive'] = testing_df.iloc[i]['TotalSamples'] - testing_df.iloc[i]['Negative']\n",
    "    elif np.isnan(testing_df.iloc[i]['Negative']) and ~np.isnan(testing_df.iloc[i]['Positive']):\n",
    "        testing_df.at[i, 'Negative'] = testing_df.iloc[i]['TotalSamples'] - testing_df.iloc[i]['Positive']\n",
    "    elif np.isnan(testing_df.iloc[i]['Positive']) and np.isnan(testing_df.iloc[i]['Negative']):\n",
    "        testing_df.at[i, 'Positive'] = np.round(pos_rate * testing_df.iloc[i]['TotalSamples'])\n",
    "        testing_df.at[i, 'Negative'] = testing_df.iloc[i]['TotalSamples'] - testing_df.iloc[i]['Positive']\n",
    "        \n",
    "testing_df.isnull().any()"
   ]
  },
  {
   "cell_type": "markdown",
   "metadata": {},
   "source": [
    "Now, there are no missing values :)"
   ]
  },
  {
   "cell_type": "markdown",
   "metadata": {},
   "source": [
    "Let's look at the testing results in West Bengal:"
   ]
  },
  {
   "cell_type": "code",
   "execution_count": 371,
   "metadata": {},
   "outputs": [
    {
     "data": {
      "image/png": "[encoded data removed]",
      "text/plain": [
       "<Figure size 1080x576 with 1 Axes>"
      ]
     },
     "metadata": {
      "needs_background": "light"
     },
     "output_type": "display_data"
    }
   ],
   "source": [
    "fig = plt.figure(figsize=(15,8))\n",
    "\n",
    "ind = np.arange(len(west_bengal))    # the x locations for the groups\n",
    "width = 0.8       # the width of the bars: can also be len(x) sequence\n",
    "\n",
    "p1 = plt.bar(ind, west_bengal['Positive'], width, color='red')\n",
    "p2 = plt.bar(ind, west_bengal['Negative'], width, color='green', bottom=west_bengal['Positive'])\n",
    "\n",
    "plt.ylabel('Num')\n",
    "plt.xlabel('Days')\n",
    "plt.title('West Bengal Testing Results')\n",
    "plt.legend((p1[0], p2[0]), ('Positive', 'Negative'))\n",
    "\n",
    "plt.show()"
   ]
  },
  {
   "cell_type": "markdown",
   "metadata": {},
   "source": [
    "Looks like at the very end, number of positive cases is decreasing.\n",
    "\n",
    "Let's clean the patients data:"
   ]
  },
  {
   "cell_type": "code",
   "execution_count": 372,
   "metadata": {},
   "outputs": [
    {
     "data": {
      "text/html": [
       "<div>\n",
       "<style scoped>\n",
       "    .dataframe tbody tr th:only-of-type {\n",
       "        vertical-align: middle;\n",
       "    }\n",
       "\n",
       "    .dataframe tbody tr th {\n",
       "        vertical-align: top;\n",
       "    }\n",
       "\n",
       "    .dataframe thead th {\n",
       "        text-align: right;\n",
       "    }\n",
       "</style>\n",
       "<table border=\"1\" class=\"dataframe\">\n",
       "  <thead>\n",
       "    <tr style=\"text-align: right;\">\n",
       "      <th></th>\n",
       "      <th>Date_Announced</th>\n",
       "      <th>Age_Bracket</th>\n",
       "      <th>Gender</th>\n",
       "      <th>Detected_City</th>\n",
       "      <th>Detected_District</th>\n",
       "      <th>Detected_State</th>\n",
       "      <th>State_Code</th>\n",
       "      <th>Contracted_from_which Patient_Suspected</th>\n",
       "      <th>Notes</th>\n",
       "      <th>Nationality</th>\n",
       "      <th>Type_of_transmission</th>\n",
       "      <th>Source_1</th>\n",
       "      <th>Source_2</th>\n",
       "      <th>Source_3</th>\n",
       "    </tr>\n",
       "  </thead>\n",
       "  <tbody>\n",
       "    <tr>\n",
       "      <th>0</th>\n",
       "      <td>2020-04-22</td>\n",
       "      <td>0.3</td>\n",
       "      <td>F</td>\n",
       "      <td>Mancheri</td>\n",
       "      <td>Malappuram</td>\n",
       "      <td>Kerala</td>\n",
       "      <td>KL</td>\n",
       "      <td>Unknown</td>\n",
       "      <td>Details awaited, have been to admitted in hosp...</td>\n",
       "      <td>India</td>\n",
       "      <td>Unknown</td>\n",
       "      <td>https://twitter.com/PIBTvpm/status/12529408961...</td>\n",
       "      <td>https://www.facebook.com/malappuramcollector/p...</td>\n",
       "      <td>Unknown</td>\n",
       "    </tr>\n",
       "    <tr>\n",
       "      <th>1</th>\n",
       "      <td>2020-04-22</td>\n",
       "      <td>0.4</td>\n",
       "      <td>M</td>\n",
       "      <td>Unknown</td>\n",
       "      <td>Kalaburagi</td>\n",
       "      <td>Karnataka</td>\n",
       "      <td>KA</td>\n",
       "      <td>P13641</td>\n",
       "      <td>Contact of KA-P329</td>\n",
       "      <td>India</td>\n",
       "      <td>Unknown</td>\n",
       "      <td>https://t.me/Karnataka_KoViD19_Broadcast/2348</td>\n",
       "      <td>Unknown</td>\n",
       "      <td>Unknown</td>\n",
       "    </tr>\n",
       "    <tr>\n",
       "      <th>2</th>\n",
       "      <td>2020-05-01</td>\n",
       "      <td>1</td>\n",
       "      <td>M</td>\n",
       "      <td>Unknown</td>\n",
       "      <td>Davanagere</td>\n",
       "      <td>Karnataka</td>\n",
       "      <td>KA</td>\n",
       "      <td>P30609</td>\n",
       "      <td>Contact of KA-P556</td>\n",
       "      <td>India</td>\n",
       "      <td>Unknown</td>\n",
       "      <td>https://twitter.com/DHFWKA/status/125619607583...</td>\n",
       "      <td>Unknown</td>\n",
       "      <td>Unknown</td>\n",
       "    </tr>\n",
       "    <tr>\n",
       "      <th>3</th>\n",
       "      <td>2020-05-01</td>\n",
       "      <td>1</td>\n",
       "      <td>F</td>\n",
       "      <td>Unknown</td>\n",
       "      <td>Buxar</td>\n",
       "      <td>Bihar</td>\n",
       "      <td>BR</td>\n",
       "      <td>Unknown</td>\n",
       "      <td>Unknown</td>\n",
       "      <td>India</td>\n",
       "      <td>Unknown</td>\n",
       "      <td>https://twitter.com/sanjayjavin/status/1256144...</td>\n",
       "      <td>Unknown</td>\n",
       "      <td>Unknown</td>\n",
       "    </tr>\n",
       "    <tr>\n",
       "      <th>4</th>\n",
       "      <td>2020-04-02</td>\n",
       "      <td>1</td>\n",
       "      <td>F</td>\n",
       "      <td>Unknown</td>\n",
       "      <td>Chandigarh</td>\n",
       "      <td>Chandigarh</td>\n",
       "      <td>CH</td>\n",
       "      <td>Unknown</td>\n",
       "      <td>Family contact of patients, IDs unknown</td>\n",
       "      <td>India</td>\n",
       "      <td>Local</td>\n",
       "      <td>https://twitter.com/ANI/status/124570290033410...</td>\n",
       "      <td>Unknown</td>\n",
       "      <td>Unknown</td>\n",
       "    </tr>\n",
       "  </tbody>\n",
       "</table>\n",
       "</div>"
      ],
      "text/plain": [
       "  Date_Announced Age_Bracket Gender Detected_City Detected_District  \\\n",
       "0     2020-04-22         0.3      F      Mancheri        Malappuram   \n",
       "1     2020-04-22         0.4      M       Unknown        Kalaburagi   \n",
       "2     2020-05-01           1      M       Unknown        Davanagere   \n",
       "3     2020-05-01           1      F       Unknown             Buxar   \n",
       "4     2020-04-02           1      F       Unknown        Chandigarh   \n",
       "\n",
       "  Detected_State State_Code Contracted_from_which Patient_Suspected  \\\n",
       "0         Kerala         KL                                 Unknown   \n",
       "1      Karnataka         KA                                  P13641   \n",
       "2      Karnataka         KA                                  P30609   \n",
       "3          Bihar         BR                                 Unknown   \n",
       "4     Chandigarh         CH                                 Unknown   \n",
       "\n",
       "                                               Notes Nationality  \\\n",
       "0  Details awaited, have been to admitted in hosp...       India   \n",
       "1                                 Contact of KA-P329       India   \n",
       "2                                 Contact of KA-P556       India   \n",
       "3                                            Unknown       India   \n",
       "4            Family contact of patients, IDs unknown       India   \n",
       "\n",
       "  Type_of_transmission                                           Source_1  \\\n",
       "0              Unknown  https://twitter.com/PIBTvpm/status/12529408961...   \n",
       "1              Unknown      https://t.me/Karnataka_KoViD19_Broadcast/2348   \n",
       "2              Unknown  https://twitter.com/DHFWKA/status/125619607583...   \n",
       "3              Unknown  https://twitter.com/sanjayjavin/status/1256144...   \n",
       "4                Local  https://twitter.com/ANI/status/124570290033410...   \n",
       "\n",
       "                                            Source_2 Source_3  \n",
       "0  https://www.facebook.com/malappuramcollector/p...  Unknown  \n",
       "1                                            Unknown  Unknown  \n",
       "2                                            Unknown  Unknown  \n",
       "3                                            Unknown  Unknown  \n",
       "4                                            Unknown  Unknown  "
      ]
     },
     "execution_count": 372,
     "metadata": {},
     "output_type": "execute_result"
    }
   ],
   "source": [
    "patient_df.head()"
   ]
  },
  {
   "cell_type": "code",
   "execution_count": 373,
   "metadata": {},
   "outputs": [
    {
     "data": {
      "text/plain": [
       "Unknown    30666\n",
       "40           271\n",
       "30           260\n",
       "45           234\n",
       "35           234\n",
       "           ...  \n",
       "84             1\n",
       "0.4            1\n",
       "89             1\n",
       "2.5            1\n",
       "0.3            1\n",
       "Name: Age_Bracket, Length: 98, dtype: int64"
      ]
     },
     "execution_count": 373,
     "metadata": {},
     "output_type": "execute_result"
    }
   ],
   "source": [
    "ages = patient_df['Age_Bracket']\n",
    "ages.value_counts()"
   ]
  },
  {
   "cell_type": "markdown",
   "metadata": {},
   "source": [
    "Not very sure how the age bracket was measured :("
   ]
  },
  {
   "cell_type": "code",
   "execution_count": 374,
   "metadata": {},
   "outputs": [
    {
     "data": {
      "text/plain": [
       "Contracted_from_which Patient_Suspected\n",
       "C0                                                             1\n",
       "E0                                                             1\n",
       "E1                                                             1\n",
       "Intern at AIIMS Rishikesh                                      1\n",
       "KA-C0                                                          1\n",
       "                                                              ..\n",
       "https://twitter.com/ArogyaAndhra/status/1249575886665334791    1\n",
       "https://twitter.com/ArogyaAndhra/status/1249575886665334792    1\n",
       "https://twitter.com/ArogyaAndhra/status/1249575886665334793    1\n",
       "https://twitter.com/ArogyaAndhra/status/1249575886665334794    1\n",
       "https://twitter.com/ArogyaAndhra/status/1249575886665334795    1\n",
       "Name: Contracted_from_which Patient_Suspected, Length: 287, dtype: int64"
      ]
     },
     "execution_count": 374,
     "metadata": {},
     "output_type": "execute_result"
    }
   ],
   "source": [
    "patient_df.groupby(['Contracted_from_which Patient_Suspected'])['Contracted_from_which Patient_Suspected'].nunique()"
   ]
  },
  {
   "cell_type": "markdown",
   "metadata": {},
   "source": [
    "Contact trace also does not give very useful information. Some of these twitter links are invalidated.\n",
    "\n",
    "Let's instead focus on the number of active cases:"
   ]
  },
  {
   "cell_type": "code",
   "execution_count": 358,
   "metadata": {},
   "outputs": [],
   "source": [
    "## cumulative\n",
    "recovered_true = recovered_df['Country'].sort_index().cumsum().to_numpy()\n",
    "deceased_true = deceased_df['Country'].sort_index().cumsum().to_numpy()\n",
    "confirmed_true = confirmed_df['Country'].sort_index().cumsum().to_numpy() - recovered_true - deceased_true"
   ]
  },
  {
   "cell_type": "code",
   "execution_count": 360,
   "metadata": {},
   "outputs": [
    {
     "data": {
      "image/png": "[encoded data removed]",
      "text/plain": [
       "<Figure size 1080x576 with 1 Axes>"
      ]
     },
     "metadata": {
      "needs_background": "light"
     },
     "output_type": "display_data"
    }
   ],
   "source": [
    "fig = plt.figure(figsize=(15,8))\n",
    "ax = fig.add_subplot(111)\n",
    "\n",
    "t = len(recovered_true)\n",
    "t = np.linspace(1, t, t)\n",
    "\n",
    "ax.plot(t, confirmed_true, 'red', label = 'Active')\n",
    "ax.plot(t, recovered_true, 'green', label = 'Recovered')\n",
    "ax.plot(t, deceased_true, 'black', label = 'Deceased')\n",
    "ax.set_xlabel('Time')\n",
    "ax.set_ylabel('Num')\n",
    "plt.ylim(0,65000)\n",
    "\n",
    "legend = ax.legend()"
   ]
  },
  {
   "cell_type": "markdown",
   "metadata": {},
   "source": [
    "Let's calculate the total population:"
   ]
  },
  {
   "cell_type": "code",
   "execution_count": 361,
   "metadata": {},
   "outputs": [
    {
     "data": {
      "text/html": [
       "<div>\n",
       "<style scoped>\n",
       "    .dataframe tbody tr th:only-of-type {\n",
       "        vertical-align: middle;\n",
       "    }\n",
       "\n",
       "    .dataframe tbody tr th {\n",
       "        vertical-align: top;\n",
       "    }\n",
       "\n",
       "    .dataframe thead th {\n",
       "        text-align: right;\n",
       "    }\n",
       "</style>\n",
       "<table border=\"1\" class=\"dataframe\">\n",
       "  <thead>\n",
       "    <tr style=\"text-align: right;\">\n",
       "      <th></th>\n",
       "      <th>Sno</th>\n",
       "      <th>State / Union Territory</th>\n",
       "      <th>Population</th>\n",
       "      <th>Rural population</th>\n",
       "      <th>Urban population</th>\n",
       "      <th>Area</th>\n",
       "      <th>Density</th>\n",
       "      <th>Gender Ratio</th>\n",
       "    </tr>\n",
       "  </thead>\n",
       "  <tbody>\n",
       "    <tr>\n",
       "      <th>0</th>\n",
       "      <td>1</td>\n",
       "      <td>Uttar Pradesh</td>\n",
       "      <td>199812341</td>\n",
       "      <td>155317278</td>\n",
       "      <td>44495063</td>\n",
       "      <td>240,928 km2 (93,023 sq mi)</td>\n",
       "      <td>828/km2 (2,140/sq mi)</td>\n",
       "      <td>912</td>\n",
       "    </tr>\n",
       "    <tr>\n",
       "      <th>1</th>\n",
       "      <td>2</td>\n",
       "      <td>Maharashtra</td>\n",
       "      <td>112374333</td>\n",
       "      <td>61556074</td>\n",
       "      <td>50818259</td>\n",
       "      <td>307,713 km2 (118,809 sq mi)</td>\n",
       "      <td>365/km2 (950/sq mi)</td>\n",
       "      <td>929</td>\n",
       "    </tr>\n",
       "    <tr>\n",
       "      <th>2</th>\n",
       "      <td>3</td>\n",
       "      <td>Bihar</td>\n",
       "      <td>104099452</td>\n",
       "      <td>92341436</td>\n",
       "      <td>11758016</td>\n",
       "      <td>94,163 km2 (36,357 sq mi)</td>\n",
       "      <td>1,102/km2 (2,850/sq mi)</td>\n",
       "      <td>918</td>\n",
       "    </tr>\n",
       "    <tr>\n",
       "      <th>3</th>\n",
       "      <td>4</td>\n",
       "      <td>West Bengal</td>\n",
       "      <td>91276115</td>\n",
       "      <td>62183113</td>\n",
       "      <td>29093002</td>\n",
       "      <td>88,752 km2 (34,267 sq mi)</td>\n",
       "      <td>1,029/km2 (2,670/sq mi)</td>\n",
       "      <td>953</td>\n",
       "    </tr>\n",
       "    <tr>\n",
       "      <th>4</th>\n",
       "      <td>5</td>\n",
       "      <td>Madhya Pradesh</td>\n",
       "      <td>72626809</td>\n",
       "      <td>52557404</td>\n",
       "      <td>20069405</td>\n",
       "      <td>308,245 km2 (119,014 sq mi)</td>\n",
       "      <td>236/km2 (610/sq mi)</td>\n",
       "      <td>931</td>\n",
       "    </tr>\n",
       "  </tbody>\n",
       "</table>\n",
       "</div>"
      ],
      "text/plain": [
       "   Sno State / Union Territory  Population  Rural population  \\\n",
       "0    1           Uttar Pradesh   199812341         155317278   \n",
       "1    2             Maharashtra   112374333          61556074   \n",
       "2    3                   Bihar   104099452          92341436   \n",
       "3    4             West Bengal    91276115          62183113   \n",
       "4    5          Madhya Pradesh    72626809          52557404   \n",
       "\n",
       "   Urban population                         Area                  Density  \\\n",
       "0          44495063   240,928 km2 (93,023 sq mi)    828/km2 (2,140/sq mi)   \n",
       "1          50818259  307,713 km2 (118,809 sq mi)      365/km2 (950/sq mi)   \n",
       "2          11758016    94,163 km2 (36,357 sq mi)  1,102/km2 (2,850/sq mi)   \n",
       "3          29093002    88,752 km2 (34,267 sq mi)  1,029/km2 (2,670/sq mi)   \n",
       "4          20069405  308,245 km2 (119,014 sq mi)      236/km2 (610/sq mi)   \n",
       "\n",
       "   Gender Ratio  \n",
       "0           912  \n",
       "1           929  \n",
       "2           918  \n",
       "3           953  \n",
       "4           931  "
      ]
     },
     "execution_count": 361,
     "metadata": {},
     "output_type": "execute_result"
    }
   ],
   "source": [
    "population_df.head()"
   ]
  },
  {
   "cell_type": "code",
   "execution_count": 363,
   "metadata": {},
   "outputs": [
    {
     "name": "stdout",
     "output_type": "stream",
     "text": [
      "total population is: 1210568111\n"
     ]
    }
   ],
   "source": [
    "total_pop = sum(population_df['Population'])\n",
    "print('total population is: {}'.format(1210568111))"
   ]
  },
  {
   "cell_type": "markdown",
   "metadata": {},
   "source": [
    "## 3. Assumptions:\n",
    "\n",
    "- Assume only transmission rate changes over time\n",
    "- Assume data regarding the confirmed, recovered, and deceased is accurate\n",
    "- Assume COVID-19 follows patterns of other viral diseases\n",
    "- Assume the entire population has risks to be infected\n",
    "- Assume a parametric form of the model (details below)"
   ]
  },
  {
   "cell_type": "markdown",
   "metadata": {},
   "source": [
    "## 4. Model:\n",
    "In this section, I will be constructing an SEIRD model.\n",
    "\n",
    "**Compartments:**\n",
    "- **S**: Susceptible\n",
    "- **E**: Exposed\n",
    "- **I**: Infected\n",
    "- **R**: Recovered\n",
    "- **D**: Deceased\n",
    "\n",
    "**Parameters:**\n",
    "<pre>\n",
    "- N         : total population\n",
    "- i         : incubation period\n",
    "- sigma     : 1/i (incubation rate)\n",
    "- D         : recovery period (average length of infection that leads to recover)\n",
    "- gamma     : 1/D (recovery rate)\n",
    "- b_vals    : beta transmission rates (number of people getting infected by one infected individual per day)\n",
    "- m         : mortality rate (of infected individuals)\n",
    "- d         : average length of infection that leads to death\n",
    "- p         : 1/d (rate at which infected individuals die)\n",
    "</pre>\n",
    "\n",
    "**Explaination:**\n",
    "\n",
    "SEIRD uses a system of ODEs **(Ordinary Differential Equations)** to model the spread of a virus by looking at different groups of individuals, including **susceptible, exposed, infected, recovered, and deceased**. The number of individuals in these compartments changes over unit time t, which is 'one day' in this case.\n",
    "\n",
    "The general idea of the model is:\n",
    "\n",
    "- **One** person was infected at the beginning\n",
    "- Everyone in the population is **assumed** to enter the **Susceptible** group\n",
    "- **One other** person is assumed to have **contacts with the infected**, entering the **Exposed** group\n",
    "- The virus starts to spread\n",
    "- Once an individual enter S group, they follow either **S -> E -> I -> R (recovered)** or **S -> E -> I -> D (deceased)**\n",
    "\n",
    "I modeled beta (transmission rate) as a piecewise function that changes its value every 7 days, since **transmission rate is usually different at different stages of the virus.**\n",
    "\n",
    "The 'model' function below takes in time steps (t), incubation period (i), recovery period (D), and b_vals (beta values), and returns number of people at S, E, I, R, D at corresponding time steps as a 2-d numpy array object."
   ]
  },
  {
   "cell_type": "code",
   "execution_count": 205,
   "metadata": {},
   "outputs": [],
   "source": [
    "def model(t, i, D, b_vals):\n",
    "\n",
    "    N = total_pop\n",
    "    sigma = 1.0/i\n",
    "    gamma = 1.0/D\n",
    "    m = 0.03\n",
    "    d = 7.0\n",
    "    p = 1.0/d\n",
    "\n",
    "    def init_vals(S_0, E_0, I_0, R_0, D_0):\n",
    "        y_0 = S_0, E_0, I_0, R_0, D_0\n",
    "        return y_0\n",
    "\n",
    "    def beta(t):\n",
    "        return np.piecewise(t, [t <= 10, \n",
    "                                10 < t <= 20, \n",
    "                                20 < t <= 30,\n",
    "                                30 < t <= 40,\n",
    "                                40 < t <= 50, \n",
    "                                50 < t <= 60,\n",
    "                                t > 60], b_vals).item()\n",
    "\n",
    "    def seird(y, t, N, sigma, gamma, p, m):\n",
    "        S, E, I, R, D = y\n",
    "        dS_dt = -beta(t) * S * I / N\n",
    "        dE_dt = beta(t) * S * I / N - sigma * E\n",
    "        dI_dt = sigma * E - (1 - m) * gamma * I - p * m * I\n",
    "        dR_dt = (1 - m) * gamma * I\n",
    "        dD_dt = m * p * I\n",
    "        return dS_dt, dE_dt, dI_dt, dR_dt, dD_dt\n",
    "    \n",
    "    y_0 = init_vals(N-2, 1, 1, 0, 0)\n",
    "    t = np.linspace(1, t, t)\n",
    "    S, E, I, R, D = odeint(seird, y_0, t, args=(N, sigma, gamma, p, m)).T\n",
    "    \n",
    "    return S, E, I, R, D"
   ]
  },
  {
   "cell_type": "markdown",
   "metadata": {},
   "source": [
    "## 5. Optimization using Metropolis-Hastings Algorithm:\n",
    "\n",
    "In this section, I will be using Metropolis-Hastings Algorithm (an MCMC based method) to estimate model parameters.\n",
    "\n",
    "**Explaination:**\n",
    "- Our goal is to estimate **i** (incubation period), **D** (recovery period), and **beta** (transmission rate)\n",
    "- We first initialize some random (relatively reasonable) values as our initial guess\n",
    "- We run the algorithm for 901 iterations (extra 1 because I want to compare the initial RMSE too)\n",
    "- In each iteration, we do the following:\n",
    "    - generate a new set of parameters from a normal distribution (mean is current set of parameters, standard deviation is assumed to be 0.01. Technically I have to tune the standard deviation, but for simplicity, I made an assumption)\n",
    "    - compare the **RMSE** of **current** set of parameters and **new** set of parameters against the **true number of infected cases** (from dataset)\n",
    "    - if RMSE of new parameters is **strictly lower** than the RMSE of current parameters, **update** current parameters as new parameters\n",
    "    - otherwise, keep current parameters, and assign a very **small** probability of updating parameters (avoid stucking at **local minimum**)\n",
    "- The parameters should converge to optimum values"
   ]
  },
  {
   "cell_type": "code",
   "execution_count": 221,
   "metadata": {},
   "outputs": [
    {
     "name": "stdout",
     "output_type": "stream",
     "text": [
      "iteration: 0, rmse: 6698.770267832703\n",
      "iteration: 100, rmse: 12833.023480992366\n",
      "iteration: 200, rmse: 9863.865308566552\n",
      "iteration: 300, rmse: 5183.639186323052\n",
      "iteration: 400, rmse: 7211.650029250117\n",
      "iteration: 500, rmse: 5054.495792562995\n",
      "iteration: 600, rmse: 3532.979206202735\n",
      "iteration: 700, rmse: 2001.3437656847575\n",
      "iteration: 800, rmse: 2840.446643387788\n",
      "iteration: 900, rmse: 1264.6985384882134\n"
     ]
    }
   ],
   "source": [
    "i_cur = 8.0\n",
    "beta_cur = [3,1,0.8,0.5,0.2,0.1,0.05]\n",
    "D_cur = 8.0\n",
    "\n",
    "n_iter = 901\n",
    "t = len(confirmed_true)\n",
    "\n",
    "i_vals = np.zeros((n_iter,1))\n",
    "D_vals = np.zeros((n_iter,1))\n",
    "rmse_vals = np.zeros((n_iter,1))\n",
    "\n",
    "for step in range(n_iter):\n",
    "    np.random.seed(step * 123141)\n",
    "    i_next = abs(np.random.normal(i_cur, 0.01, 1))\n",
    "    D_next = abs(np.random.normal(D_cur, 0.01, 1))\n",
    "    beta_next = np.zeros((7,1))\n",
    "    for i in range(7):\n",
    "        beta_next[i] = abs(np.random.normal(beta_cur[i], 0.01, 1))\n",
    "\n",
    "    I_cur_pred = model(t, i_cur, D_cur, beta_cur)[2]\n",
    "    I_next_pred = model(t, i_next, D_next, beta_cur)[2]\n",
    "\n",
    "    rmse_I_cur = mean_squared_error(I_cur_pred, confirmed_true) ** 0.5\n",
    "    rmse_I_next = mean_squared_error(I_next_pred, confirmed_true) ** 0.5\n",
    "\n",
    "    alpha = rmse_I_cur / rmse_I_next\n",
    "\n",
    "    if (alpha > 1.0):\n",
    "        i_cur = i_next\n",
    "        beta_cur = beta_next\n",
    "        D_cur = D_next\n",
    "    else:\n",
    "        decision = np.random.binomial(1, alpha / 1000, 1)\n",
    "        if (decision == 1):\n",
    "            i_cur = i_next\n",
    "            beta_cur = beta_next\n",
    "            D_cur = D_next\n",
    "\n",
    "    i_vals[step] = i_cur\n",
    "    D_vals[step] = D_cur\n",
    "    rmse_vals[step] = rmse_I_cur\n",
    "\n",
    "    if (step % 100 == 0):\n",
    "        print (\"iteration: {}, rmse: {}\".format(step, rmse_I_cur))"
   ]
  },
  {
   "cell_type": "markdown",
   "metadata": {},
   "source": [
    "## 6. Result\n",
    "\n",
    "Here are the result of our optimization:"
   ]
  },
  {
   "cell_type": "code",
   "execution_count": 321,
   "metadata": {},
   "outputs": [
    {
     "name": "stdout",
     "output_type": "stream",
     "text": [
      "final values:\n",
      "i = [10.02626035], D = [6.3661147],\n",
      "\n",
      "beta = [[3.20525331]\n",
      " [0.85868239]\n",
      " [1.21677497]\n",
      " [0.65443459]\n",
      " [0.39656953]\n",
      " [0.36931794]\n",
      " [0.10015439]]\n",
      "\n",
      "resulted RMSE: 1264.6985384882134\n"
     ]
    }
   ],
   "source": [
    "print(\"final values:\")\n",
    "print(\"i = {}, D = {},\\n\".format(i_cur, D_cur))\n",
    "print(\"beta = {}\\n\".format(beta_cur))\n",
    "print(\"resulted RMSE: {}\".format(rmse_I_cur))"
   ]
  },
  {
   "cell_type": "code",
   "execution_count": 322,
   "metadata": {},
   "outputs": [],
   "source": [
    "t = 150\n",
    "S, E, I, R, D = model(t, i_cur, D_cur, beta_cur)\n",
    "t = 150\n",
    "\n",
    "## uncertainty\n",
    "S_up, E_up, I_up, R_up, D_up = model(t, i_cur + 0.0196, D_cur + 0.0196, beta_cur + 0.0196)\n",
    "I_up = I_up[np.arange(62,150)]\n",
    "I_up[0] = confirmed_true[-1]\n",
    "S_down, E_down, I_down, R_down, D_down = model(t, i_cur - 0.0196, D_cur - 0.0196, beta_cur - 0.0196)\n",
    "I_down = I_down[np.arange(62, 150)]\n",
    "I_down[0] = confirmed_true[-1]"
   ]
  },
  {
   "cell_type": "code",
   "execution_count": 323,
   "metadata": {},
   "outputs": [
    {
     "data": {
      "image/png": "[encoded data removed]",
      "text/plain": [
       "<Figure size 1080x576 with 1 Axes>"
      ]
     },
     "metadata": {
      "needs_background": "light"
     },
     "output_type": "display_data"
    }
   ],
   "source": [
    "fig = plt.figure(figsize=(15,8))\n",
    "ax = fig.add_subplot(111)\n",
    "\n",
    "t_error = np.linspace(63, t, t - 62)\n",
    "t = np.linspace(1, t, t)\n",
    "\n",
    "ax.plot(t, I, 'red', alpha=0.3, label = 'Active_pred')\n",
    "#ax.plot(t, R, 'green', alpha=0.3, label = 'Recovered_pred')\n",
    "ax.plot(t, D, 'black', alpha=0.3, label = 'Deceased_pred')\n",
    "plt.fill_between(t_error, I_up, I_down, facecolor=\"orange\", color='orange', alpha=0.3)\n",
    "t = np.linspace(1,len(confirmed_true),len(confirmed_true))\n",
    "ax.plot(t, confirmed_true, 'red', label = 'Active')\n",
    "#ax.plot(t, recovered_true, 'green', label = 'Recovered')\n",
    "ax.plot(t, deceased_true, 'black', label = 'Deceased')\n",
    "ax.set_xlabel('Time')\n",
    "ax.set_ylabel('Num')\n",
    "plt.ylim(0,65000)\n",
    "\n",
    "legend = ax.legend()"
   ]
  },
  {
   "cell_type": "markdown",
   "metadata": {},
   "source": [
    "- Dark red curve: true active number of cases\n",
    "- Light red curve: predicted active number of cases\n",
    "- Black curve: true number of deaths\n",
    "- Grey curve: predicted number of deaths\n",
    "- Orange area: 95% CI (prediction interval)"
   ]
  },
  {
   "cell_type": "markdown",
   "metadata": {},
   "source": [
    "## 7. Comments\n",
    "\n",
    "Now, let's talk about our result.\n",
    "\n",
    "The **RMSE** we got eventually was 1264.6985, and if we average it for the total duration, we get **20.08** per day.\n",
    "\n",
    "Forecasting viruses like COVID-19 is very different than the usual training/testing/validating approaches in machine learning because the data we got is **extremely** limited. In my model, I used all the confirmed, recovered, and deceased data in the training process.\n",
    "\n",
    "However, one very huge limitation is that the training data has very large uncertainties. For example, different countries use very different ways of counting number of deaths. In a death certificate, they usually list several causes of death, and because COVID-19 could invoke other underlying health issues, a lot of the deaths were not counted as directly caused by COVID-19.\n",
    "\n",
    "In addition, some infected people were not counted as infected because of the limited testing capacities.\n",
    "\n",
    "In fact, one of the biggest criticisms faced by many leading COVID-19 projection models such as IHME's (Institue for Health Metrics and Evaluation) model is that they do not give a detailed explaination of where their **margin of error** came from. That's why I used the training **RMSE** as a evaluation metric in this case.\n",
    "\n",
    "The 95% CI (prediction interval) is calculated based on the overall effects of point estimates (incubation period, recovery period, and transmission rate). "
   ]
  },
  {
   "cell_type": "markdown",
   "metadata": {},
   "source": [
    "Let's plot the paths for incubation and recovery period:"
   ]
  },
  {
   "cell_type": "code",
   "execution_count": 245,
   "metadata": {},
   "outputs": [
    {
     "data": {
      "image/png": "[encoded data removed]",
      "text/plain": [
       "<Figure size 1080x576 with 2 Axes>"
      ]
     },
     "metadata": {
      "needs_background": "light"
     },
     "output_type": "display_data"
    }
   ],
   "source": [
    "fig = plt.figure(figsize=(15,8))\n",
    "\n",
    "plt.subplot(2, 2, 1)\n",
    "plt.subplots_adjust(hspace=0.3)\n",
    "plt.title('incubation period (i)')\n",
    "plt.xlabel('iterations')\n",
    "plt.ylabel('value')\n",
    "plt.plot(i_vals)\n",
    "\n",
    "plt.subplot(2, 2, 3)\n",
    "plt.title('recovery period (D)')\n",
    "plt.xlabel('iterations')\n",
    "plt.ylabel('value')\n",
    "plt.plot(D_vals)\n",
    "\n",
    "plt.show()"
   ]
  },
  {
   "cell_type": "markdown",
   "metadata": {},
   "source": [
    "I only ran a few iterations after the 'burn-in' period since I am running this algorithm on my laptop from 5 years ago :( Ideally, the algorithm has to run many more iterations to obtain more precise results."
   ]
  },
  {
   "cell_type": "markdown",
   "metadata": {},
   "source": [
    "## 8. Answers to Questions\n",
    "\n",
    "### Q1: Estimate at which point can one expect to see the peak in number of COVID-19 cases in the following states: Maharashtra, Delhi, Tamil Nadu, Gujarat?\n",
    "\n",
    "**21-May-2020 ± 6 days (95% CI, calculations below)**\n",
    "\n",
    "### Q2: By which date will the states listed above have less than 100 COVID-19 cases?\n",
    "\n",
    "**14-March-2021 (assuming no second wave, full capacity testing kits, no seasonal impacts)**\n",
    "\n",
    "### Q3: Based on the data we’ve provided - what would be the number of cases in the aforementioned states by June 30th?\n",
    "\n",
    "**15828 active cases**\n",
    "\n",
    "### Q4: How has the growth and the spread of the virus looked across the country since the first case?\n",
    "\n",
    "Please see the plot of transmission rate (beta) value over time:"
   ]
  },
  {
   "cell_type": "code",
   "execution_count": 299,
   "metadata": {},
   "outputs": [
    {
     "data": {
      "image/png": "[encoded data removed]",
      "text/plain": [
       "<Figure size 720x360 with 1 Axes>"
      ]
     },
     "metadata": {
      "needs_background": "light"
     },
     "output_type": "display_data"
    }
   ],
   "source": [
    "fig = plt.figure(figsize=(10,5))\n",
    "\n",
    "plt.plot(beta_cur)\n",
    "plt.title('Transmission rate over time (each week)')\n",
    "plt.ylabel('rate')\n",
    "plt.xlabel('week number')\n",
    "plt.show()"
   ]
  },
  {
   "cell_type": "markdown",
   "metadata": {},
   "source": [
    "### Calculations:"
   ]
  },
  {
   "cell_type": "code",
   "execution_count": 306,
   "metadata": {},
   "outputs": [
    {
     "name": "stdout",
     "output_type": "stream",
     "text": [
      "Days till peak since first day of record: 64, error: 5, date = 21-May-2020\n"
     ]
    }
   ],
   "source": [
    "peak = np.argmax(I)\n",
    "date = '21-May-2020'\n",
    "error = np.argmax(I_up)\n",
    "print(\"Days till peak since first day of record: {}, error: {}, date = {}\".format(peak, error, date))"
   ]
  },
  {
   "cell_type": "code",
   "execution_count": 307,
   "metadata": {},
   "outputs": [
    {
     "name": "stdout",
     "output_type": "stream",
     "text": [
      "Days till less than 100 active cases: 303, date: 14-March-2021\n"
     ]
    }
   ],
   "source": [
    "t = 400\n",
    "S, E, I, R, D = model(t, i_cur, D_cur, beta_cur)\n",
    "res = t - sum(I < 100)\n",
    "date = '14-March-2021'\n",
    "print('Days till less than 100 active cases: {}, date: {}'.format(res, date))"
   ]
  },
  {
   "cell_type": "code",
   "execution_count": 308,
   "metadata": {},
   "outputs": [
    {
     "name": "stdout",
     "output_type": "stream",
     "text": [
      "Number of active cases on June 30th: 15828.0\n"
     ]
    }
   ],
   "source": [
    "d = 63 + 46\n",
    "res = I[d]\n",
    "print('Number of active cases on June 30th: {}'.format(np.round(res)))"
   ]
  },
  {
   "cell_type": "markdown",
   "metadata": {},
   "source": [
    "## 9. Disclaimer:\n",
    "\n",
    "### This notebook is intended for DubsTech's 2020 Datathon submission only. Numbers predicted by this model should not be used for any other purpose."
   ]
  },
  {
   "cell_type": "code",
   "execution_count": null,
   "metadata": {},
   "outputs": [],
   "source": []
  },
  {
   "cell_type": "code",
   "execution_count": null,
   "metadata": {},
   "outputs": [],
   "source": []
  }
 ],
 "metadata": {
  "kernelspec": {
   "display_name": "Python 3",
   "language": "python",
   "name": "python3"
  },
  "language_info": {
   "codemirror_mode": {
    "name": "ipython",
    "version": 3
   },
   "file_extension": ".py",
   "mimetype": "text/x-python",
   "name": "python",
   "nbconvert_exporter": "python",
   "pygments_lexer": "ipython3",
   "version": "3.7.1"
  }
 },
 "nbformat": 4,
 "nbformat_minor": 2
}
